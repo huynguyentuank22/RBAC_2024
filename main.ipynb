{
 "cells": [
  {
   "cell_type": "markdown",
   "metadata": {},
   "source": [
    "# [RBAC 2024] ROUND 2: CASE STUDY \n",
    "Our task involves conducting a thorough analysis of the relationships between different customer segments \\\n",
    "and the loan products they utilize, as well as identifying the key differences and trends that emerged in \\\n",
    "the years 2022 and 2023. These insights will be essential for understanding customer behavior, market \\\n",
    "conditions, and their impact on the business during this period."
   ]
  },
  {
   "cell_type": "code",
   "execution_count": 1,
   "metadata": {},
   "outputs": [],
   "source": [
    "import pandas as pd\n",
    "import matplotlib.pyplot as plt"
   ]
  },
  {
   "cell_type": "code",
   "execution_count": 2,
   "metadata": {},
   "outputs": [],
   "source": [
    "loan_origin = pd.read_csv('dataset/loan_origin.csv')\n",
    "demographic = pd.read_csv('dataset/demographic.csv')"
   ]
  },
  {
   "cell_type": "code",
   "execution_count": 5,
   "metadata": {},
   "outputs": [
    {
     "name": "stdout",
     "output_type": "stream",
     "text": [
      "<class 'pandas.core.frame.DataFrame'>\n",
      "RangeIndex: 371200 entries, 0 to 371199\n",
      "Data columns (total 14 columns):\n",
      " #   Column                Non-Null Count   Dtype  \n",
      "---  ------                --------------   -----  \n",
      " 0   DISBURSEMENT_CHANNEL  315211 non-null  float64\n",
      " 1   LIQUIDITY             315574 non-null  float64\n",
      " 2   INSURANCE_COMPANY     315396 non-null  float64\n",
      " 3   INSURANCE_RATE        315613 non-null  float64\n",
      " 4   DISBURSEMENT_DATE     315470 non-null  object \n",
      " 5   CONTRACT_NO           315643 non-null  float64\n",
      " 6   RATE                  315635 non-null  float64\n",
      " 7   HAS_INSURANCE         315334 non-null  object \n",
      " 8   PRODUCT_CATEGORY      315447 non-null  float64\n",
      " 9   LOAN_TERM             315169 non-null  float64\n",
      " 10  MONTH_INTEREST        315292 non-null  float64\n",
      " 11  LOAN_PURPOSE          315973 non-null  float64\n",
      " 12  BUSINESS_LINE         315584 non-null  float64\n",
      " 13  LOAN_AMOUNT           315681 non-null  float64\n",
      "dtypes: float64(12), object(2)\n",
      "memory usage: 39.6+ MB\n"
     ]
    }
   ],
   "source": [
    "loan_origin.info()"
   ]
  },
  {
   "cell_type": "code",
   "execution_count": 6,
   "metadata": {},
   "outputs": [
    {
     "name": "stdout",
     "output_type": "stream",
     "text": [
      "<class 'pandas.core.frame.DataFrame'>\n",
      "RangeIndex: 371200 entries, 0 to 371199\n",
      "Data columns (total 17 columns):\n",
      " #   Column                      Non-Null Count   Dtype  \n",
      "---  ------                      --------------   -----  \n",
      " 0   LABOUR_CONTRACT_TYPE        293048 non-null  float64\n",
      " 1   NUMBER_OF_DEPENDANTS        307877 non-null  float64\n",
      " 2   PERMANENT_ADDRESS_PROVINCE  315371 non-null  float64\n",
      " 3   INDUSTRY                    304094 non-null  float64\n",
      " 4   JOB                         315548 non-null  float64\n",
      " 5   COMPANY_ADDRESS_PROVINCE    262358 non-null  float64\n",
      " 6   CONTRACT_NO                 315507 non-null  float64\n",
      " 7   WEIGHT                      315684 non-null  float64\n",
      " 8   EDUCATION                   308236 non-null  float64\n",
      " 9   CUSTOMER_INCOME             315351 non-null  float64\n",
      " 10  CREDITIBILITY               315533 non-null  float64\n",
      " 11  ACCOMMODATION_TYPE          307761 non-null  float64\n",
      " 12  DATE_OF_BIRTH               315328 non-null  float64\n",
      " 13  HEIGHT                      315411 non-null  float64\n",
      " 14  WORKING_IN_YEAR             301330 non-null  float64\n",
      " 15  MARITAL_STATUS              307785 non-null  float64\n",
      " 16  INCOME_RESOURCE             308138 non-null  float64\n",
      "dtypes: float64(17)\n",
      "memory usage: 48.1 MB\n"
     ]
    }
   ],
   "source": [
    "demographic.info()"
   ]
  },
  {
   "cell_type": "code",
   "execution_count": null,
   "metadata": {},
   "outputs": [],
   "source": []
  }
 ],
 "metadata": {
  "kernelspec": {
   "display_name": "Python 3",
   "language": "python",
   "name": "python3"
  },
  "language_info": {
   "codemirror_mode": {
    "name": "ipython",
    "version": 3
   },
   "file_extension": ".py",
   "mimetype": "text/x-python",
   "name": "python",
   "nbconvert_exporter": "python",
   "pygments_lexer": "ipython3",
   "version": "3.12.2"
  }
 },
 "nbformat": 4,
 "nbformat_minor": 2
}
